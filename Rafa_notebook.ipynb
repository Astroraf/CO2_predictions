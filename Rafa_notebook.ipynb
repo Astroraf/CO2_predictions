{
 "cells": [
  {
   "cell_type": "code",
   "execution_count": 1,
   "metadata": {},
   "outputs": [],
   "source": [
    "import numpy as np\n",
    "import pandas as pd \n",
    "import warnings\n",
    "warnings.filterwarnings('ignore')\n",
    "import itertools\n",
    "\n",
    "\n",
    "\n",
    "import matplotlib.pyplot as plt\n",
    "import matplotlib as mpl\n",
    "import seaborn as sns\n",
    "sns.set_theme(style=\"white\")\n",
    "%matplotlib inline\n",
    "\n",
    "\n",
    "from statsmodels.tsa.stattools import adfuller\n",
    "from statsmodels.graphics.tsaplots import plot_acf\n",
    "from statsmodels.graphics.tsaplots import plot_pacf"
   ]
  },
  {
   "cell_type": "code",
   "execution_count": 2,
   "metadata": {},
   "outputs": [],
   "source": [
    "monthly = pd.read_csv('co2_mm_mlo.csv')"
   ]
  },
  {
   "cell_type": "code",
   "execution_count": 3,
   "metadata": {},
   "outputs": [
    {
     "data": {
      "text/html": [
       "<div>\n",
       "<style scoped>\n",
       "    .dataframe tbody tr th:only-of-type {\n",
       "        vertical-align: middle;\n",
       "    }\n",
       "\n",
       "    .dataframe tbody tr th {\n",
       "        vertical-align: top;\n",
       "    }\n",
       "\n",
       "    .dataframe thead th {\n",
       "        text-align: right;\n",
       "    }\n",
       "</style>\n",
       "<table border=\"1\" class=\"dataframe\">\n",
       "  <thead>\n",
       "    <tr style=\"text-align: right;\">\n",
       "      <th></th>\n",
       "      <th>year</th>\n",
       "      <th>month</th>\n",
       "      <th>decimal date</th>\n",
       "      <th>average</th>\n",
       "      <th>interpolated</th>\n",
       "      <th>trend</th>\n",
       "      <th>ndays</th>\n",
       "      <th>Unnamed: 7</th>\n",
       "    </tr>\n",
       "  </thead>\n",
       "  <tbody>\n",
       "    <tr>\n",
       "      <th>0</th>\n",
       "      <td>1958</td>\n",
       "      <td>3</td>\n",
       "      <td>1958.2027</td>\n",
       "      <td>315.70</td>\n",
       "      <td>314.43</td>\n",
       "      <td>-1</td>\n",
       "      <td>-9.99</td>\n",
       "      <td>-0.99</td>\n",
       "    </tr>\n",
       "    <tr>\n",
       "      <th>1</th>\n",
       "      <td>1958</td>\n",
       "      <td>4</td>\n",
       "      <td>1958.2877</td>\n",
       "      <td>317.45</td>\n",
       "      <td>315.16</td>\n",
       "      <td>-1</td>\n",
       "      <td>-9.99</td>\n",
       "      <td>-0.99</td>\n",
       "    </tr>\n",
       "    <tr>\n",
       "      <th>2</th>\n",
       "      <td>1958</td>\n",
       "      <td>5</td>\n",
       "      <td>1958.3699</td>\n",
       "      <td>317.51</td>\n",
       "      <td>314.71</td>\n",
       "      <td>-1</td>\n",
       "      <td>-9.99</td>\n",
       "      <td>-0.99</td>\n",
       "    </tr>\n",
       "    <tr>\n",
       "      <th>3</th>\n",
       "      <td>1958</td>\n",
       "      <td>6</td>\n",
       "      <td>1958.4548</td>\n",
       "      <td>317.24</td>\n",
       "      <td>315.14</td>\n",
       "      <td>-1</td>\n",
       "      <td>-9.99</td>\n",
       "      <td>-0.99</td>\n",
       "    </tr>\n",
       "    <tr>\n",
       "      <th>4</th>\n",
       "      <td>1958</td>\n",
       "      <td>7</td>\n",
       "      <td>1958.5370</td>\n",
       "      <td>315.86</td>\n",
       "      <td>315.18</td>\n",
       "      <td>-1</td>\n",
       "      <td>-9.99</td>\n",
       "      <td>-0.99</td>\n",
       "    </tr>\n",
       "    <tr>\n",
       "      <th>...</th>\n",
       "      <td>...</td>\n",
       "      <td>...</td>\n",
       "      <td>...</td>\n",
       "      <td>...</td>\n",
       "      <td>...</td>\n",
       "      <td>...</td>\n",
       "      <td>...</td>\n",
       "      <td>...</td>\n",
       "    </tr>\n",
       "    <tr>\n",
       "      <th>751</th>\n",
       "      <td>2020</td>\n",
       "      <td>10</td>\n",
       "      <td>2020.7917</td>\n",
       "      <td>411.51</td>\n",
       "      <td>414.92</td>\n",
       "      <td>30</td>\n",
       "      <td>0.22</td>\n",
       "      <td>0.08</td>\n",
       "    </tr>\n",
       "    <tr>\n",
       "      <th>752</th>\n",
       "      <td>2020</td>\n",
       "      <td>11</td>\n",
       "      <td>2020.8750</td>\n",
       "      <td>413.11</td>\n",
       "      <td>415.14</td>\n",
       "      <td>27</td>\n",
       "      <td>0.80</td>\n",
       "      <td>0.29</td>\n",
       "    </tr>\n",
       "    <tr>\n",
       "      <th>753</th>\n",
       "      <td>2020</td>\n",
       "      <td>12</td>\n",
       "      <td>2020.9583</td>\n",
       "      <td>414.25</td>\n",
       "      <td>415.00</td>\n",
       "      <td>30</td>\n",
       "      <td>0.48</td>\n",
       "      <td>0.17</td>\n",
       "    </tr>\n",
       "    <tr>\n",
       "      <th>754</th>\n",
       "      <td>2021</td>\n",
       "      <td>1</td>\n",
       "      <td>2021.0417</td>\n",
       "      <td>415.52</td>\n",
       "      <td>415.26</td>\n",
       "      <td>29</td>\n",
       "      <td>0.44</td>\n",
       "      <td>0.16</td>\n",
       "    </tr>\n",
       "    <tr>\n",
       "      <th>755</th>\n",
       "      <td>2021</td>\n",
       "      <td>2</td>\n",
       "      <td>2021.1250</td>\n",
       "      <td>416.75</td>\n",
       "      <td>415.88</td>\n",
       "      <td>28</td>\n",
       "      <td>1.01</td>\n",
       "      <td>0.36</td>\n",
       "    </tr>\n",
       "  </tbody>\n",
       "</table>\n",
       "<p>756 rows × 8 columns</p>\n",
       "</div>"
      ],
      "text/plain": [
       "     year  month  decimal date  average  interpolated  trend  ndays  \\\n",
       "0    1958      3     1958.2027   315.70        314.43     -1  -9.99   \n",
       "1    1958      4     1958.2877   317.45        315.16     -1  -9.99   \n",
       "2    1958      5     1958.3699   317.51        314.71     -1  -9.99   \n",
       "3    1958      6     1958.4548   317.24        315.14     -1  -9.99   \n",
       "4    1958      7     1958.5370   315.86        315.18     -1  -9.99   \n",
       "..    ...    ...           ...      ...           ...    ...    ...   \n",
       "751  2020     10     2020.7917   411.51        414.92     30   0.22   \n",
       "752  2020     11     2020.8750   413.11        415.14     27   0.80   \n",
       "753  2020     12     2020.9583   414.25        415.00     30   0.48   \n",
       "754  2021      1     2021.0417   415.52        415.26     29   0.44   \n",
       "755  2021      2     2021.1250   416.75        415.88     28   1.01   \n",
       "\n",
       "     Unnamed: 7  \n",
       "0         -0.99  \n",
       "1         -0.99  \n",
       "2         -0.99  \n",
       "3         -0.99  \n",
       "4         -0.99  \n",
       "..          ...  \n",
       "751        0.08  \n",
       "752        0.29  \n",
       "753        0.17  \n",
       "754        0.16  \n",
       "755        0.36  \n",
       "\n",
       "[756 rows x 8 columns]"
      ]
     },
     "execution_count": 3,
     "metadata": {},
     "output_type": "execute_result"
    }
   ],
   "source": [
    "monthly"
   ]
  },
  {
   "cell_type": "code",
   "execution_count": 4,
   "metadata": {},
   "outputs": [],
   "source": [
    "weekly = pd.read_csv('co2_weekly_mlo.csv')"
   ]
  },
  {
   "cell_type": "code",
   "execution_count": 5,
   "metadata": {},
   "outputs": [
    {
     "data": {
      "text/html": [
       "<div>\n",
       "<style scoped>\n",
       "    .dataframe tbody tr th:only-of-type {\n",
       "        vertical-align: middle;\n",
       "    }\n",
       "\n",
       "    .dataframe tbody tr th {\n",
       "        vertical-align: top;\n",
       "    }\n",
       "\n",
       "    .dataframe thead th {\n",
       "        text-align: right;\n",
       "    }\n",
       "</style>\n",
       "<table border=\"1\" class=\"dataframe\">\n",
       "  <thead>\n",
       "    <tr style=\"text-align: right;\">\n",
       "      <th></th>\n",
       "      <th>year</th>\n",
       "      <th>month</th>\n",
       "      <th>day</th>\n",
       "      <th>decimal</th>\n",
       "      <th>average</th>\n",
       "      <th>ndays</th>\n",
       "      <th>1 year ago</th>\n",
       "      <th>10 years ago</th>\n",
       "      <th>increase since 1800</th>\n",
       "    </tr>\n",
       "  </thead>\n",
       "  <tbody>\n",
       "    <tr>\n",
       "      <th>0</th>\n",
       "      <td>1974</td>\n",
       "      <td>5</td>\n",
       "      <td>19</td>\n",
       "      <td>1974.3795</td>\n",
       "      <td>333.37</td>\n",
       "      <td>5</td>\n",
       "      <td>-999.99</td>\n",
       "      <td>-999.99</td>\n",
       "      <td>50.40</td>\n",
       "    </tr>\n",
       "    <tr>\n",
       "      <th>1</th>\n",
       "      <td>1974</td>\n",
       "      <td>5</td>\n",
       "      <td>26</td>\n",
       "      <td>1974.3986</td>\n",
       "      <td>332.95</td>\n",
       "      <td>6</td>\n",
       "      <td>-999.99</td>\n",
       "      <td>-999.99</td>\n",
       "      <td>50.06</td>\n",
       "    </tr>\n",
       "    <tr>\n",
       "      <th>2</th>\n",
       "      <td>1974</td>\n",
       "      <td>6</td>\n",
       "      <td>2</td>\n",
       "      <td>1974.4178</td>\n",
       "      <td>332.35</td>\n",
       "      <td>5</td>\n",
       "      <td>-999.99</td>\n",
       "      <td>-999.99</td>\n",
       "      <td>49.60</td>\n",
       "    </tr>\n",
       "    <tr>\n",
       "      <th>3</th>\n",
       "      <td>1974</td>\n",
       "      <td>6</td>\n",
       "      <td>9</td>\n",
       "      <td>1974.4370</td>\n",
       "      <td>332.20</td>\n",
       "      <td>7</td>\n",
       "      <td>-999.99</td>\n",
       "      <td>-999.99</td>\n",
       "      <td>49.65</td>\n",
       "    </tr>\n",
       "    <tr>\n",
       "      <th>4</th>\n",
       "      <td>1974</td>\n",
       "      <td>6</td>\n",
       "      <td>16</td>\n",
       "      <td>1974.4562</td>\n",
       "      <td>332.37</td>\n",
       "      <td>7</td>\n",
       "      <td>-999.99</td>\n",
       "      <td>-999.99</td>\n",
       "      <td>50.06</td>\n",
       "    </tr>\n",
       "    <tr>\n",
       "      <th>...</th>\n",
       "      <td>...</td>\n",
       "      <td>...</td>\n",
       "      <td>...</td>\n",
       "      <td>...</td>\n",
       "      <td>...</td>\n",
       "      <td>...</td>\n",
       "      <td>...</td>\n",
       "      <td>...</td>\n",
       "      <td>...</td>\n",
       "    </tr>\n",
       "    <tr>\n",
       "      <th>2436</th>\n",
       "      <td>2021</td>\n",
       "      <td>1</td>\n",
       "      <td>24</td>\n",
       "      <td>2021.0644</td>\n",
       "      <td>416.01</td>\n",
       "      <td>7</td>\n",
       "      <td>413.96</td>\n",
       "      <td>391.68</td>\n",
       "      <td>135.50</td>\n",
       "    </tr>\n",
       "    <tr>\n",
       "      <th>2437</th>\n",
       "      <td>2021</td>\n",
       "      <td>1</td>\n",
       "      <td>31</td>\n",
       "      <td>2021.0836</td>\n",
       "      <td>417.12</td>\n",
       "      <td>7</td>\n",
       "      <td>414.50</td>\n",
       "      <td>392.19</td>\n",
       "      <td>136.49</td>\n",
       "    </tr>\n",
       "    <tr>\n",
       "      <th>2438</th>\n",
       "      <td>2021</td>\n",
       "      <td>2</td>\n",
       "      <td>7</td>\n",
       "      <td>2021.1027</td>\n",
       "      <td>416.92</td>\n",
       "      <td>7</td>\n",
       "      <td>414.91</td>\n",
       "      <td>391.64</td>\n",
       "      <td>136.18</td>\n",
       "    </tr>\n",
       "    <tr>\n",
       "      <th>2439</th>\n",
       "      <td>2021</td>\n",
       "      <td>2</td>\n",
       "      <td>14</td>\n",
       "      <td>2021.1219</td>\n",
       "      <td>416.51</td>\n",
       "      <td>7</td>\n",
       "      <td>414.12</td>\n",
       "      <td>391.92</td>\n",
       "      <td>135.67</td>\n",
       "    </tr>\n",
       "    <tr>\n",
       "      <th>2440</th>\n",
       "      <td>2021</td>\n",
       "      <td>2</td>\n",
       "      <td>21</td>\n",
       "      <td>2021.1411</td>\n",
       "      <td>416.31</td>\n",
       "      <td>7</td>\n",
       "      <td>413.96</td>\n",
       "      <td>392.32</td>\n",
       "      <td>135.36</td>\n",
       "    </tr>\n",
       "  </tbody>\n",
       "</table>\n",
       "<p>2441 rows × 9 columns</p>\n",
       "</div>"
      ],
      "text/plain": [
       "      year  month  day    decimal  average  ndays  1 year ago  10 years ago  \\\n",
       "0     1974      5   19  1974.3795   333.37      5     -999.99       -999.99   \n",
       "1     1974      5   26  1974.3986   332.95      6     -999.99       -999.99   \n",
       "2     1974      6    2  1974.4178   332.35      5     -999.99       -999.99   \n",
       "3     1974      6    9  1974.4370   332.20      7     -999.99       -999.99   \n",
       "4     1974      6   16  1974.4562   332.37      7     -999.99       -999.99   \n",
       "...    ...    ...  ...        ...      ...    ...         ...           ...   \n",
       "2436  2021      1   24  2021.0644   416.01      7      413.96        391.68   \n",
       "2437  2021      1   31  2021.0836   417.12      7      414.50        392.19   \n",
       "2438  2021      2    7  2021.1027   416.92      7      414.91        391.64   \n",
       "2439  2021      2   14  2021.1219   416.51      7      414.12        391.92   \n",
       "2440  2021      2   21  2021.1411   416.31      7      413.96        392.32   \n",
       "\n",
       "      increase since 1800  \n",
       "0                   50.40  \n",
       "1                   50.06  \n",
       "2                   49.60  \n",
       "3                   49.65  \n",
       "4                   50.06  \n",
       "...                   ...  \n",
       "2436               135.50  \n",
       "2437               136.49  \n",
       "2438               136.18  \n",
       "2439               135.67  \n",
       "2440               135.36  \n",
       "\n",
       "[2441 rows x 9 columns]"
      ]
     },
     "execution_count": 5,
     "metadata": {},
     "output_type": "execute_result"
    }
   ],
   "source": [
    "weekly"
   ]
  },
  {
   "cell_type": "code",
   "execution_count": 6,
   "metadata": {},
   "outputs": [
    {
     "data": {
      "text/plain": [
       "year                   0\n",
       "month                  0\n",
       "day                    0\n",
       "decimal                0\n",
       "average                0\n",
       "ndays                  0\n",
       "1 year ago             0\n",
       "10 years ago           0\n",
       "increase since 1800    0\n",
       "dtype: int64"
      ]
     },
     "execution_count": 6,
     "metadata": {},
     "output_type": "execute_result"
    }
   ],
   "source": [
    "weekly.isna().sum()"
   ]
  },
  {
   "cell_type": "code",
   "execution_count": 7,
   "metadata": {},
   "outputs": [],
   "source": [
    "weekly['Date'] = pd.to_datetime(weekly[['year', 'month', 'day']])"
   ]
  },
  {
   "cell_type": "code",
   "execution_count": 22,
   "metadata": {},
   "outputs": [
    {
     "data": {
      "text/html": [
       "<div>\n",
       "<style scoped>\n",
       "    .dataframe tbody tr th:only-of-type {\n",
       "        vertical-align: middle;\n",
       "    }\n",
       "\n",
       "    .dataframe tbody tr th {\n",
       "        vertical-align: top;\n",
       "    }\n",
       "\n",
       "    .dataframe thead th {\n",
       "        text-align: right;\n",
       "    }\n",
       "</style>\n",
       "<table border=\"1\" class=\"dataframe\">\n",
       "  <thead>\n",
       "    <tr style=\"text-align: right;\">\n",
       "      <th></th>\n",
       "      <th>year</th>\n",
       "      <th>month</th>\n",
       "      <th>day</th>\n",
       "      <th>decimal</th>\n",
       "      <th>average</th>\n",
       "      <th>ndays</th>\n",
       "      <th>1 year ago</th>\n",
       "      <th>10 years ago</th>\n",
       "      <th>increase since 1800</th>\n",
       "      <th>Date</th>\n",
       "    </tr>\n",
       "  </thead>\n",
       "  <tbody>\n",
       "    <tr>\n",
       "      <th>0</th>\n",
       "      <td>1974</td>\n",
       "      <td>5</td>\n",
       "      <td>19</td>\n",
       "      <td>1974.3795</td>\n",
       "      <td>333.37</td>\n",
       "      <td>5</td>\n",
       "      <td>-999.99</td>\n",
       "      <td>-999.99</td>\n",
       "      <td>50.40</td>\n",
       "      <td>1974-05-19</td>\n",
       "    </tr>\n",
       "    <tr>\n",
       "      <th>1</th>\n",
       "      <td>1974</td>\n",
       "      <td>5</td>\n",
       "      <td>26</td>\n",
       "      <td>1974.3986</td>\n",
       "      <td>332.95</td>\n",
       "      <td>6</td>\n",
       "      <td>-999.99</td>\n",
       "      <td>-999.99</td>\n",
       "      <td>50.06</td>\n",
       "      <td>1974-05-26</td>\n",
       "    </tr>\n",
       "    <tr>\n",
       "      <th>2</th>\n",
       "      <td>1974</td>\n",
       "      <td>6</td>\n",
       "      <td>2</td>\n",
       "      <td>1974.4178</td>\n",
       "      <td>332.35</td>\n",
       "      <td>5</td>\n",
       "      <td>-999.99</td>\n",
       "      <td>-999.99</td>\n",
       "      <td>49.60</td>\n",
       "      <td>1974-06-02</td>\n",
       "    </tr>\n",
       "    <tr>\n",
       "      <th>3</th>\n",
       "      <td>1974</td>\n",
       "      <td>6</td>\n",
       "      <td>9</td>\n",
       "      <td>1974.4370</td>\n",
       "      <td>332.20</td>\n",
       "      <td>7</td>\n",
       "      <td>-999.99</td>\n",
       "      <td>-999.99</td>\n",
       "      <td>49.65</td>\n",
       "      <td>1974-06-09</td>\n",
       "    </tr>\n",
       "    <tr>\n",
       "      <th>4</th>\n",
       "      <td>1974</td>\n",
       "      <td>6</td>\n",
       "      <td>16</td>\n",
       "      <td>1974.4562</td>\n",
       "      <td>332.37</td>\n",
       "      <td>7</td>\n",
       "      <td>-999.99</td>\n",
       "      <td>-999.99</td>\n",
       "      <td>50.06</td>\n",
       "      <td>1974-06-16</td>\n",
       "    </tr>\n",
       "    <tr>\n",
       "      <th>...</th>\n",
       "      <td>...</td>\n",
       "      <td>...</td>\n",
       "      <td>...</td>\n",
       "      <td>...</td>\n",
       "      <td>...</td>\n",
       "      <td>...</td>\n",
       "      <td>...</td>\n",
       "      <td>...</td>\n",
       "      <td>...</td>\n",
       "      <td>...</td>\n",
       "    </tr>\n",
       "    <tr>\n",
       "      <th>2436</th>\n",
       "      <td>2021</td>\n",
       "      <td>1</td>\n",
       "      <td>24</td>\n",
       "      <td>2021.0644</td>\n",
       "      <td>416.01</td>\n",
       "      <td>7</td>\n",
       "      <td>413.96</td>\n",
       "      <td>391.68</td>\n",
       "      <td>135.50</td>\n",
       "      <td>2021-01-24</td>\n",
       "    </tr>\n",
       "    <tr>\n",
       "      <th>2437</th>\n",
       "      <td>2021</td>\n",
       "      <td>1</td>\n",
       "      <td>31</td>\n",
       "      <td>2021.0836</td>\n",
       "      <td>417.12</td>\n",
       "      <td>7</td>\n",
       "      <td>414.50</td>\n",
       "      <td>392.19</td>\n",
       "      <td>136.49</td>\n",
       "      <td>2021-01-31</td>\n",
       "    </tr>\n",
       "    <tr>\n",
       "      <th>2438</th>\n",
       "      <td>2021</td>\n",
       "      <td>2</td>\n",
       "      <td>7</td>\n",
       "      <td>2021.1027</td>\n",
       "      <td>416.92</td>\n",
       "      <td>7</td>\n",
       "      <td>414.91</td>\n",
       "      <td>391.64</td>\n",
       "      <td>136.18</td>\n",
       "      <td>2021-02-07</td>\n",
       "    </tr>\n",
       "    <tr>\n",
       "      <th>2439</th>\n",
       "      <td>2021</td>\n",
       "      <td>2</td>\n",
       "      <td>14</td>\n",
       "      <td>2021.1219</td>\n",
       "      <td>416.51</td>\n",
       "      <td>7</td>\n",
       "      <td>414.12</td>\n",
       "      <td>391.92</td>\n",
       "      <td>135.67</td>\n",
       "      <td>2021-02-14</td>\n",
       "    </tr>\n",
       "    <tr>\n",
       "      <th>2440</th>\n",
       "      <td>2021</td>\n",
       "      <td>2</td>\n",
       "      <td>21</td>\n",
       "      <td>2021.1411</td>\n",
       "      <td>416.31</td>\n",
       "      <td>7</td>\n",
       "      <td>413.96</td>\n",
       "      <td>392.32</td>\n",
       "      <td>135.36</td>\n",
       "      <td>2021-02-21</td>\n",
       "    </tr>\n",
       "  </tbody>\n",
       "</table>\n",
       "<p>2441 rows × 10 columns</p>\n",
       "</div>"
      ],
      "text/plain": [
       "      year  month  day    decimal  average  ndays  1 year ago  10 years ago  \\\n",
       "0     1974      5   19  1974.3795   333.37      5     -999.99       -999.99   \n",
       "1     1974      5   26  1974.3986   332.95      6     -999.99       -999.99   \n",
       "2     1974      6    2  1974.4178   332.35      5     -999.99       -999.99   \n",
       "3     1974      6    9  1974.4370   332.20      7     -999.99       -999.99   \n",
       "4     1974      6   16  1974.4562   332.37      7     -999.99       -999.99   \n",
       "...    ...    ...  ...        ...      ...    ...         ...           ...   \n",
       "2436  2021      1   24  2021.0644   416.01      7      413.96        391.68   \n",
       "2437  2021      1   31  2021.0836   417.12      7      414.50        392.19   \n",
       "2438  2021      2    7  2021.1027   416.92      7      414.91        391.64   \n",
       "2439  2021      2   14  2021.1219   416.51      7      414.12        391.92   \n",
       "2440  2021      2   21  2021.1411   416.31      7      413.96        392.32   \n",
       "\n",
       "      increase since 1800       Date  \n",
       "0                   50.40 1974-05-19  \n",
       "1                   50.06 1974-05-26  \n",
       "2                   49.60 1974-06-02  \n",
       "3                   49.65 1974-06-09  \n",
       "4                   50.06 1974-06-16  \n",
       "...                   ...        ...  \n",
       "2436               135.50 2021-01-24  \n",
       "2437               136.49 2021-01-31  \n",
       "2438               136.18 2021-02-07  \n",
       "2439               135.67 2021-02-14  \n",
       "2440               135.36 2021-02-21  \n",
       "\n",
       "[2441 rows x 10 columns]"
      ]
     },
     "execution_count": 22,
     "metadata": {},
     "output_type": "execute_result"
    }
   ],
   "source": [
    "weekly"
   ]
  },
  {
   "cell_type": "code",
   "execution_count": 10,
   "metadata": {},
   "outputs": [
    {
     "data": {
      "text/plain": [
       "Index(['year', 'month', 'day', 'decimal', 'average', 'ndays', '1 year ago',\n",
       "       '10 years ago', 'increase since 1800', 'Date'],\n",
       "      dtype='object')"
      ]
     },
     "execution_count": 10,
     "metadata": {},
     "output_type": "execute_result"
    }
   ],
   "source": [
    "weekly.column"
   ]
  },
  {
   "cell_type": "code",
   "execution_count": 26,
   "metadata": {},
   "outputs": [],
   "source": [
    "years = weekly.loc[weekly['average'] == -999.99].index.values"
   ]
  },
  {
   "cell_type": "code",
   "execution_count": 28,
   "metadata": {},
   "outputs": [
    {
     "data": {
      "text/plain": [
       "array([  72,   81,   82,   83,   84,  110,  409,  412,  413,  481,  515,\n",
       "        516,  517,  518, 1639, 1780, 1781, 1782])"
      ]
     },
     "execution_count": 28,
     "metadata": {},
     "output_type": "execute_result"
    }
   ],
   "source": [
    "years"
   ]
  },
  {
   "cell_type": "code",
   "execution_count": 29,
   "metadata": {},
   "outputs": [],
   "source": [
    "for index in years:\n",
    "    x1 = weekly.loc[index - 1, 'average']\n",
    "    x2 = weekly.loc[index + 1, 'average']\n",
    "    weekly.loc[index, 'average'] = (x1 + x2) / 2"
   ]
  },
  {
   "cell_type": "code",
   "execution_count": 31,
   "metadata": {},
   "outputs": [
    {
     "data": {
      "text/plain": [
       "393.73    3\n",
       "353.99    3\n",
       "354.94    3\n",
       "376.41    3\n",
       "372.04    3\n",
       "         ..\n",
       "358.38    1\n",
       "391.39    1\n",
       "342.33    1\n",
       "399.40    1\n",
       "334.00    1\n",
       "Name: average, Length: 2145, dtype: int64"
      ]
     },
     "execution_count": 31,
     "metadata": {},
     "output_type": "execute_result"
    }
   ],
   "source": [
    "weekly['average'].value_counts()"
   ]
  },
  {
   "cell_type": "code",
   "execution_count": null,
   "metadata": {},
   "outputs": [],
   "source": [
    "co2_weekly = weekly.copy()"
   ]
  },
  {
   "cell_type": "code",
   "execution_count": null,
   "metadata": {},
   "outputs": [],
   "source": []
  },
  {
   "cell_type": "code",
   "execution_count": null,
   "metadata": {},
   "outputs": [],
   "source": [
    "co2_weekly = co2_weekly[co2_weekly.average != -999.99]"
   ]
  },
  {
   "cell_type": "code",
   "execution_count": null,
   "metadata": {},
   "outputs": [],
   "source": [
    "ppm_mean = co2_weekly.average.mean()"
   ]
  },
  {
   "cell_type": "code",
   "execution_count": null,
   "metadata": {},
   "outputs": [],
   "source": [
    "weekly['average'] = weekly['average'].replace([-999.99], [ppm_mean])"
   ]
  },
  {
   "cell_type": "code",
   "execution_count": null,
   "metadata": {},
   "outputs": [],
   "source": [
    "weekly[weekly]"
   ]
  },
  {
   "cell_type": "code",
   "execution_count": null,
   "metadata": {},
   "outputs": [],
   "source": [
    "season = weekly\n",
    "season['Date'] = weekly.Date\n",
    "season['Year'] = weekly['Date'].dt.year\n",
    "season['Month'] = weekly['Date'].dt.month\n",
    "spivot = pd.pivot_table(season, index='Month', columns = 'Year', values = 'average', aggfunc=np.mean)\n",
    "spivot.plot(figsize=(20,10), linewidth=3)\n",
    "plt.legend(loc = 'best')\n",
    "plt.show()"
   ]
  },
  {
   "cell_type": "code",
   "execution_count": null,
   "metadata": {},
   "outputs": [],
   "source": []
  },
  {
   "cell_type": "code",
   "execution_count": null,
   "metadata": {},
   "outputs": [],
   "source": [
    "weekly.drop(columns = ['year', 'month', 'day'], inplace = True)"
   ]
  },
  {
   "cell_type": "code",
   "execution_count": null,
   "metadata": {},
   "outputs": [],
   "source": []
  },
  {
   "cell_type": "code",
   "execution_count": null,
   "metadata": {},
   "outputs": [],
   "source": [
    "weekly1.set_index('Date', inplace = True)"
   ]
  },
  {
   "cell_type": "code",
   "execution_count": null,
   "metadata": {},
   "outputs": [],
   "source": [
    "avg_week = weekly.copy()"
   ]
  },
  {
   "cell_type": "code",
   "execution_count": null,
   "metadata": {},
   "outputs": [],
   "source": [
    "avg_week.columns"
   ]
  },
  {
   "cell_type": "code",
   "execution_count": null,
   "metadata": {},
   "outputs": [],
   "source": [
    "avg_week.drop(columns = ['decimal', 'ndays', '1 year ago', '10 years ago', 'increase since 1800'], inplace =True)"
   ]
  },
  {
   "cell_type": "code",
   "execution_count": null,
   "metadata": {},
   "outputs": [],
   "source": [
    "avg_week.value_counts()"
   ]
  },
  {
   "cell_type": "code",
   "execution_count": null,
   "metadata": {},
   "outputs": [],
   "source": [
    "avg_week['average'].mean()"
   ]
  },
  {
   "cell_type": "code",
   "execution_count": null,
   "metadata": {},
   "outputs": [],
   "source": [
    "avg_week = avg_week.mask(avg_week == -999.99).fillna(0)"
   ]
  },
  {
   "cell_type": "code",
   "execution_count": null,
   "metadata": {},
   "outputs": [],
   "source": [
    "avg_week.plot(ylabel = 'ppm')"
   ]
  },
  {
   "cell_type": "code",
   "execution_count": null,
   "metadata": {},
   "outputs": [],
   "source": [
    "month = avg_week.resample('M').mean()\n",
    "month_std = avg_week.resample('M').std()\n"
   ]
  },
  {
   "cell_type": "code",
   "execution_count": null,
   "metadata": {},
   "outputs": [],
   "source": [
    "fig = plt.figure(figsize = (20,10))\n",
    "plt.plot(month, color = 'tomato', label = 'Average Monthly CO2')\n",
    "plt.plot(month_std, color = 'gold', label = 'STD Monthly CO2')\n",
    "plt.legend(loc = 'best')\n",
    "plt.show()"
   ]
  },
  {
   "cell_type": "code",
   "execution_count": null,
   "metadata": {},
   "outputs": [],
   "source": [
    "from statsmodels.tsa.stattools import adfuller\n",
    "test = adfuller(avg_week['average'][1:-1])\n",
    "dfoutput = pd.Series(test[0:4], index=['Test Statistic','p-value','#Lags Used','Number of Observations Used'])\n",
    "print(dfoutput)"
   ]
  },
  {
   "cell_type": "code",
   "execution_count": null,
   "metadata": {},
   "outputs": [],
   "source": [
    "plt.style.use('classic')"
   ]
  },
  {
   "cell_type": "code",
   "execution_count": null,
   "metadata": {},
   "outputs": [],
   "source": [
    "plot_acf(avg_week[:-1], alpha=0.05);"
   ]
  },
  {
   "cell_type": "code",
   "execution_count": null,
   "metadata": {},
   "outputs": [],
   "source": [
    "plot_pacf(avg_week[:-1], alpha = 0.001, lags=20);"
   ]
  },
  {
   "cell_type": "code",
   "execution_count": null,
   "metadata": {},
   "outputs": [],
   "source": []
  },
  {
   "cell_type": "code",
   "execution_count": null,
   "metadata": {},
   "outputs": [],
   "source": []
  }
 ],
 "metadata": {
  "kernelspec": {
   "display_name": "Python 3",
   "language": "python",
   "name": "python3"
  },
  "language_info": {
   "codemirror_mode": {
    "name": "ipython",
    "version": 3
   },
   "file_extension": ".py",
   "mimetype": "text/x-python",
   "name": "python",
   "nbconvert_exporter": "python",
   "pygments_lexer": "ipython3",
   "version": "3.8.5"
  }
 },
 "nbformat": 4,
 "nbformat_minor": 4
}
